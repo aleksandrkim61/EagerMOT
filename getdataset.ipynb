{
 "cells": [
  {
   "cell_type": "code",
   "execution_count": 9,
   "metadata": {},
   "outputs": [],
   "source": [
    "KITTI_DATA_DIR = 'G:/내 드라이브/data/kitti'\n"
   ]
  },
  {
   "cell_type": "code",
   "execution_count": 4,
   "metadata": {},
   "outputs": [],
   "source": [
    "from typing import List, Iterable, Mapping, Dict, Any, Optional, IO\n",
    "from abc import ABC, abstractmethod"
   ]
  },
  {
   "cell_type": "code",
   "execution_count": null,
   "metadata": {},
   "outputs": [],
   "source": [
    "class MOTSequence(ABC):\n",
    "    def __init__(self, det_source: str, seg_source: str, split_dir: str, name: str, frame_names: Iterable[str]):\n",
    "        self.det_source = det_source\n",
    "        self.seg_source = seg_source\n",
    "        self.split_dir = split_dir\n",
    "        self.name = name\n",
    "        self.frame_names = frame_names\n",
    "        \n",
    "        # Image size for each camera - needed for 3D->2D projections. The dict is set in dataset-specific classes\n",
    "        self.img_shape_per_cam: Dict[str, Any] = {}\n",
    "\n",
    "        # Detections 3D {frame_name: [bboxes_3d]}\n",
    "        self.dets_3d_per_frame: Dict[str, List[bbox.Bbox3d]] = {}\n",
    "\n",
    "        # Detections 2D {frame_name: {cam_name: [bboxes_3d]}}\n",
    "        self.dets_2d_multicam_per_frame: Dict[str, Dict[str, List[Detection2D]]] = {}\n",
    "\n",
    "        # need to set its Transformation object and img_shape_per_cam in subclasses\n",
    "        self.mot = TrackManager(self.cameras, self.classes_to_track)\n",
    "\n",
    "        det_seg_source_folder_name = f'{self.det_source}_{self.seg_source}'\n",
    "        self.work_split_input_dir = os.path.join(self.split_dir, det_seg_source_folder_name)\n",
    "        self.tracking_res_dir = os.path.join(self.work_split_input_dir, 'tracking')"
   ]
  },
  {
   "cell_type": "code",
   "execution_count": 8,
   "metadata": {},
   "outputs": [],
   "source": [
    "class MOTDataset(ABC):\n",
    "    def __init__(self, work_dir: str, det_source: str, seg_source: str):\n",
    "        \"\"\" Initialize the general dataset-level object\n",
    "\n",
    "        :param work_dir: path to workspace output directory\n",
    "        :param det_source: source of 3D detections\n",
    "        :param seg_source: source of 2D detections\n",
    "        \"\"\"\n",
    "        self.work_dir = work_dir\n",
    "        self.det_source = det_source  # see dataset specific classes e.g. mot_kitti\n",
    "        self.seg_source = seg_source  # see dataset specific classes e.g. mot_kitti\n",
    "        self.splits: Set[str] = set()\n",
    "\n",
    "    def assert_split_exists(self, split: str) -> None:\n",
    "        assert split in self.splits, f\"There is no split {split}\"\n",
    "\n",
    "    def assert_sequence_in_split_exists(self, split: str, sequence_name: str) -> None:\n",
    "        self.assert_split_exists(split)\n",
    "        assert sequence_name in self.sequence_names(split), f\"There is no sequence {sequence_name} in split {split}\"\n",
    "\n",
    "    @abstractmethod\n",
    "    def sequence_names(self, split: str) -> list[str]:\n",
    "        \"\"\" Return list of sequences in the split \"\"\"\n",
    "        pass\n",
    "\n",
    "    @abstractmethod\n",
    "    def get_sequence(self, split: str, sequence_name: str):\n",
    "        \"\"\" Return a sequence object by split-name combo\"\"\"\n",
    "        pass\n",
    "\n",
    "    @abstractmethod\n",
    "    def save_all_mot_results(self, folder_name: str) -> None: pass"
   ]
  },
  {
   "cell_type": "code",
   "execution_count": 13,
   "metadata": {},
   "outputs": [],
   "source": [
    "import os\n",
    "import glob"
   ]
  },
  {
   "cell_type": "code",
   "execution_count": null,
   "metadata": {},
   "outputs": [],
   "source": [
    "class MOTDatasetKITTI(MOTDataset):\n",
    "    FOCAL = 721.537700\n",
    "    CU = 609.559300\n",
    "    CV = 172.854000\n",
    "    BASELINE = 0.532719\n",
    "    CAMERA_PARAMS = [FOCAL, CU, CV, BASELINE]\n",
    "\n",
    "    def __init__(self, work_dir, det_source: str, seg_source: str):\n",
    "        super().__init__(work_dir, det_source, seg_source)\n",
    "        self.splits: Set[str] = {\"training\", \"testing\"}\n",
    "        self.split_sequence_frame_names_map: Dict[str, Dict[str, List[str]]] = {sp: {} for sp in self.splits}\n",
    "\n",
    "        for split in self.splits:\n",
    "            seq_dir = os.path.join(KITTI_DATA_DIR, split, 'image_02')\n",
    "            if not os.path.isdir(seq_dir):\n",
    "                raise NotADirectoryError(seq_dir)\n",
    "\n",
    "            # Parse sequences\n",
    "            for sequence in sorted(os.listdir(seq_dir)):\n",
    "                img_dir = os.path.join(seq_dir, sequence)\n",
    "                if os.path.isdir(img_dir):\n",
    "                    images = glob.glob(os.path.join(img_dir, '*.png'))\n",
    "                    self.split_sequence_frame_names_map[split][sequence] = [os.path.splitext(os.path.basename(image))[0]\n",
    "                                                                            for image in sorted(images)]\n",
    "\n",
    "    def sequence_names(self, split: str) -> List[str]:\n",
    "        self.assert_split_exists(split)\n",
    "        return list(self.split_sequence_frame_names_map[split].keys())\n",
    "\n",
    "    def get_sequence(self, split: str, sequence_name: str):\n",
    "        self.assert_sequence_in_split_exists(split, sequence_name)\n",
    "        split_dir = os.path.join(self.work_dir, split)\n",
    "        return MOTSequenceKITTI(self.det_source, self.seg_source, split_dir, split, sequence_name,\n",
    "                                self.split_sequence_frame_names_map[split][sequence_name])\n",
    "\n",
    "    def save_all_mot_results(self, folder_name: str) -> None:\n",
    "        \"\"\" KITTI saves results per-sequence, so this method does not apply here \"\"\"\n",
    "        pass"
   ]
  }
 ],
 "metadata": {
  "kernelspec": {
   "display_name": "Python 3.9.12 ('base')",
   "language": "python",
   "name": "python3"
  },
  "language_info": {
   "codemirror_mode": {
    "name": "ipython",
    "version": 3
   },
   "file_extension": ".py",
   "mimetype": "text/x-python",
   "name": "python",
   "nbconvert_exporter": "python",
   "pygments_lexer": "ipython3",
   "version": "3.9.12"
  },
  "orig_nbformat": 4,
  "vscode": {
   "interpreter": {
    "hash": "2043299c89c8cd0b4d1a6f5cf4529bd58e6a4e0fe3181a25e0d328c821cdc5c5"
   }
  }
 },
 "nbformat": 4,
 "nbformat_minor": 2
}
